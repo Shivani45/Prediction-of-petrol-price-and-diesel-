import numpy as np # linear algebra
import pandas as pd # data processing, CSV file I/O (e.g. pd.read_csv)
import matplotlib.pyplot as plt
data=pd.read_csv("fuel_prices.csv")
data["Year"]=pd.to_datetime(data["date"
                           ]).dt.year
data["Month"]=pd.to_datetime(data["date"
                           ]).dt.month
data["Day"]=pd.to_datetime(data["date"
                           ]).dt.day
#for petrol
X_petrol=data.iloc[:,4:7].values
Y_petrol=data.iloc[:,1:2].values
#for diesel
X_diesel=data.iloc[:,4:7].values
Y_diesel=data.iloc[:,2:3].values
from sklearn.model_selection import train_test_split
Xp_train, Xp_test, yp_train, yp_test = train_test_split(X_petrol, Y_petrol, test_size = .2, random_state = 1000)
Xd_train, Xd_test, yd_train, yd_test = train_test_split(X_diesel, Y_diesel, test_size = .2, random_state = 1000)
from sklearn.linear_model import LinearRegression
regressor = LinearRegression()
regressor.fit(Xp_train, yp_train)
regressor2=LinearRegression()
regressor2.fit(Xd_train,yd_train)
yp_predicted=regressor.predict(Xp_test)
yd_predicted=regressor2.predict(Xd_test)
from sklearn.metrics import mean_squared_error,r2_score
error=mean_squared_error(yp_test,yp_predicted)
error=np.sqrt(error)
print(r2_score(yp_test,yp_predicted))
print(error)
error2=mean_squared_error(yd_test,yd_predicted)
error2=np.sqrt(error2)
print(r2_score(yd_test,yd_predicted))
print(error2)

plt.scatter(yp_test,yp_predicted,color="blue")
plt.scatter(yd_test,yd_predicted,color="red")
plt.title("For petrol and diesel")
plt.xlabel("y-test ")
plt.ylabel("y_predicted")
plt.show()
print("Enter the date for which you want to predict 'YYYY-MM-DD'")
x=input()
x=x.split("-")
x=list(map(int,x))
x=np.array(x) 
x=x.reshape(1,-1)
x_p=regressor.predict(x)
x_d=regressor2.predict(x)
print(x_p,x_d)
